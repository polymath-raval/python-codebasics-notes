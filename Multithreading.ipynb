{
 "cells": [
  {
   "cell_type": "markdown",
   "metadata": {},
   "source": [
    "Multithreading in python\n",
    "========================"
   ]
  },
  {
   "cell_type": "markdown",
   "metadata": {},
   "source": [
    "# General Understanding\n",
    "\n",
    "Art of doing multiple task at the same time. 'Same time' is bit of an confusing term. If there are multiple processors then we can actually do multiple task simultaneously. Else we can atleast take advantage of process which are I/O blocked.  \n",
    "\n",
    "## Multi-Threading\n",
    "Multithreading in Python allows to take advantage when our operation is blocked by I/O. Like calling multiple webservices or database calls or network calls at the same time.\n",
    "\n",
    "## Multi-Processing\n",
    "If we want to take advantage of the multiple processors present on the machine we would need to use multiprocessing\n"
   ]
  },
  {
   "cell_type": "markdown",
   "metadata": {},
   "source": [
    "## Example without multithreading or multiprocessing\n",
    "\n",
    "In the below example we are executing code without multithreading.\n",
    "It will take 4 seconds as there are two functions which take 2 seconds each."
   ]
  },
  {
   "cell_type": "markdown",
   "metadata": {},
   "source": [
    "import time\n",
    "import threading\n",
    "\n",
    "def calculate_raise_to(x, y):\n",
    "    time.sleep(2)\n",
    "    print([i ** y for i in x])\n",
    "\n",
    "input = [1,2,3,4,5,6,7]\n",
    "start = time.time()\n",
    "calculate_raise_to(input, 2)\n",
    "calculate_raise_to(input,3,)\n",
    "print('time taken', round(time.time()-start,2) , 'seconds')"
   ]
  },
  {
   "cell_type": "markdown",
   "metadata": {},
   "source": [
    "## Example with multithreading\n",
    "\n",
    "In the below example we are executing code with multithreading.\n",
    "It will take 2 seconds as there are two functions which are running in parallel and waiting also in parallel, due to the above it finishes in just more than 2 seeconds."
   ]
  },
  {
   "cell_type": "code",
   "execution_count": 22,
   "metadata": {},
   "outputs": [
    {
     "name": "stdout",
     "output_type": "stream",
     "text": [
      "[1, 4, 9, 16, 25, 36, 49]\n",
      "[1, 8, 27, 64, 125, 216, 343]\n",
      "time taken 2.0 seconds\n"
     ]
    }
   ],
   "source": [
    "import time\n",
    "import threading\n",
    "\n",
    "def calculate_raise_to(x, y):\n",
    "    time.sleep(2)\n",
    "    print([i ** y for i in x])\n",
    "\n",
    "input = [1,2,3,4,5,6,7]\n",
    "\n",
    "start = time.time()\n",
    "t1 = threading.Thread(target = calculate_raise_to, args=(input,2,))\n",
    "t2 = threading.Thread(target = calculate_raise_to, args=(input,3,))\n",
    "t1.start()\n",
    "t2.start() \n",
    "t1.join()\n",
    "t2.join()\n",
    "print('time taken', round(time.time()-start,2) , 'seconds')"
   ]
  },
  {
   "cell_type": "markdown",
   "metadata": {},
   "source": [
    "## Global variables with multithreading\n",
    "\n",
    "Multithreading happens with in the same process, so the global variables are shared accross various threads.\n",
    "\n",
    "Check in the below example that the global variables would be filled up with results"
   ]
  },
  {
   "cell_type": "code",
   "execution_count": 23,
   "metadata": {},
   "outputs": [
    {
     "name": "stdout",
     "output_type": "stream",
     "text": [
      "results is [[1, 4, 9, 16, 25, 36, 49]]\n"
     ]
    }
   ],
   "source": [
    "import threading\n",
    "\n",
    "results = []\n",
    "\n",
    "def calculate_raise_to(x, y):\n",
    "    results.append([i ** y for i in x])\n",
    "\n",
    "input = [1,2,3,4,5,6,7]\n",
    "\n",
    "start = time.time()\n",
    "t1 = threading.Thread(target = calculate_raise_to, args=(input,2,))\n",
    "t1.start()\n",
    "t1.join()\n",
    "print('results is',results)"
   ]
  },
  {
   "cell_type": "markdown",
   "metadata": {},
   "source": [
    "## Example with multithreading\n",
    "\n",
    "In the below example we are executing code with multiprocessnig. It will take 2 seconds as there are two functions which are running on seperate processes which take 2 seconds each.\n",
    "\n",
    "If you take a snapshot of process before and after the process are started, then we can notice that we have a couple of process added and then removed once the processes are finished"
   ]
  },
  {
   "cell_type": "code",
   "execution_count": 30,
   "metadata": {},
   "outputs": [
    {
     "name": "stdout",
     "output_type": "stream",
     "text": [
      "processes before we start our process\n",
      "psutil.Process(pid=1304, name='python3.7', started='09:08:53')\n",
      "psutil.Process(pid=1361, name='python3.7', started='09:09:03')\n",
      "psutil.Process(pid=1371, name='python3.7', started='09:09:14')\n",
      "psutil.Process(pid=2570, name='python3.7', started='13:50:29')\n",
      "psutil.Process(pid=3029, name='python3.7', started='16:31:37')\n",
      "psutil.Process(pid=3034, name='python3.7', started='16:31:38')\n",
      "processes after we start our process\n",
      "psutil.Process(pid=1304, name='python3.7', started='09:08:53')\n",
      "psutil.Process(pid=1361, name='python3.7', started='09:09:03')\n",
      "psutil.Process(pid=1371, name='python3.7', started='09:09:14')\n",
      "psutil.Process(pid=2570, name='python3.7', started='13:50:29')\n",
      "psutil.Process(pid=3029, name='python3.7', started='16:31:37')\n",
      "psutil.Process(pid=3034, name='python3.7', started='16:31:38')\n",
      "psutil.Process(pid=3415, name='python3.7', started='17:00:45')\n",
      "psutil.Process(pid=3416, name='python3.7', started='17:00:45')\n",
      "[1, 4, 9, 16, 25, 36, 49]\n",
      "[1, 8, 27, 64, 125, 216, 343]\n",
      "processes after we end our process\n",
      "psutil.Process(pid=1304, name='python3.7', started='09:08:53')\n",
      "psutil.Process(pid=1361, name='python3.7', started='09:09:03')\n",
      "psutil.Process(pid=1371, name='python3.7', started='09:09:14')\n",
      "psutil.Process(pid=2570, name='python3.7', started='13:50:29')\n",
      "psutil.Process(pid=3029, name='python3.7', started='16:31:37')\n",
      "psutil.Process(pid=3034, name='python3.7', started='16:31:38')\n",
      "time taken 5.05 seconds\n"
     ]
    }
   ],
   "source": [
    "import time\n",
    "import multiprocessing as mp\n",
    "import psutil\n",
    "\n",
    "def print_python_processes(msg):\n",
    "    print(msg)\n",
    "    for pid in psutil.process_iter():\n",
    "        if('python' in str(pid)):\n",
    "            print(str(pid))\n",
    "        \n",
    "def calculate_raise_to(x, y):\n",
    "    time.sleep(5)\n",
    "    print([i ** y for i in x])\n",
    "\n",
    "input = [1,2,3,4,5,6,7]\n",
    "\n",
    "start = time.time()\n",
    "p1 = mp.Process(target = calculate_raise_to, args=(input,2,), name='Process_test_1_123')\n",
    "p2 = mp.Process(target = calculate_raise_to, args=(input,3,), name='Process_test_2_abc')\n",
    "print_python_processes('processes before we start our process')\n",
    "p1.start()\n",
    "p2.start() \n",
    "print_python_processes('processes after we start our process')\n",
    "p1.join()\n",
    "p2.join()\n",
    "print_python_processes('processes after we end our process')\n",
    "print('time taken', round(time.time()-start,2) , 'seconds')"
   ]
  },
  {
   "cell_type": "markdown",
   "metadata": {},
   "source": [
    "## Global variables with multiprocessing\n",
    "\n",
    "Multiprocessing happens with on different process, so the global variables are on discrete/different memory spaces and are not shared.\n",
    "\n",
    "Check in the below example that the global variables would ***not*** be filled up with results"
   ]
  },
  {
   "cell_type": "code",
   "execution_count": 32,
   "metadata": {},
   "outputs": [
    {
     "name": "stdout",
     "output_type": "stream",
     "text": [
      "results is []\n"
     ]
    }
   ],
   "source": [
    "import multiprocessing\n",
    "\n",
    "results = []\n",
    "\n",
    "def calculate_raise_to(x, y):\n",
    "    results.append([i ** y for i in x])\n",
    "\n",
    "input = [1,2,3,4,5,6,7]\n",
    "\n",
    "start = time.time()\n",
    "t1 = multiprocessing.Process(target = calculate_raise_to, args=(input,2,))\n",
    "t1.start()\n",
    "t1.join()\n",
    "print('results is',results)"
   ]
  },
  {
   "cell_type": "code",
   "execution_count": null,
   "metadata": {},
   "outputs": [],
   "source": []
  }
 ],
 "metadata": {
  "kernelspec": {
   "display_name": "Python 3",
   "language": "python",
   "name": "python3"
  },
  "language_info": {
   "codemirror_mode": {
    "name": "ipython",
    "version": 3
   },
   "file_extension": ".py",
   "mimetype": "text/x-python",
   "name": "python",
   "nbconvert_exporter": "python",
   "pygments_lexer": "ipython3",
   "version": "3.7.1"
  }
 },
 "nbformat": 4,
 "nbformat_minor": 2
}
