{
 "cells": [
  {
   "cell_type": "markdown",
   "metadata": {},
   "source": [
    "Pandas\n",
    "======\n",
    "\n",
    "# What is Data Science?\n",
    "\n",
    "Process of analzing larget set of data datapoints to get answers or questions related to that dataset.\n",
    "\n",
    "**Pandas makes doing data science easy**\n"
   ]
  },
  {
   "cell_type": "code",
   "execution_count": null,
   "metadata": {
    "collapsed": true
   },
   "outputs": [],
   "source": [
    "import pandas as pd\n",
    "import numpy as np"
   ]
  },
  {
   "cell_type": "markdown",
   "metadata": {},
   "source": [
    "### Different Way of creating dataframe"
   ]
  },
  {
   "cell_type": "markdown",
   "metadata": {},
   "source": [
    "### From Tuple"
   ]
  },
  {
   "cell_type": "code",
   "execution_count": null,
   "metadata": {},
   "outputs": [],
   "source": [
    "weather_tuple = [\n",
    "    ('1/1/2019',32,6,'Rain'),\n",
    "    ('1/2/2019',35,7,'Sunny'),\n",
    "    ('1/3/2019',28,2,'Snow'),\n",
    "    ('1/4/2019',24,7,'Snow'),\n",
    "    ('1/5/2019',32,4,'Rain'),\n",
    "    ('1/6/2019',31,2,'Sunny')\n",
    "]\n",
    "dataframe = pd.DataFrame(weather_tuple,columns=['day','temperature','windspeed','event'])\n",
    "dataframe.head()"
   ]
  },
  {
   "cell_type": "markdown",
   "metadata": {},
   "source": [
    "#### From Dictionary"
   ]
  },
  {
   "cell_type": "code",
   "execution_count": null,
   "metadata": {
    "collapsed": true
   },
   "outputs": [],
   "source": [
    "weather_dict = {\n",
    "    'day' : ['1/1/2019','1/2/2019','1/3/2019','1/4/2019','1/5/2019','1/6/2019'],\n",
    "    'temperature': [32,35,28,24,32,31],\n",
    "    'windspeed': [6,7,2,7,4,2],\n",
    "    'event': ['Rain','Sunny','Snow','Snow','Rain','Sunny']\n",
    "}\n",
    "dataframe = pd.DataFrame(weather_dict)\n",
    "dataframe"
   ]
  },
  {
   "cell_type": "markdown",
   "metadata": {},
   "source": [
    "#### From List of Dictionaries"
   ]
  },
  {
   "cell_type": "code",
   "execution_count": null,
   "metadata": {},
   "outputs": [],
   "source": [
    "weather_list_dict = [\n",
    "    {'day':'1/1/2019','temperature':32,'windspeed':6,'event':'Rain'},\n",
    "    {'day':'1/2/2019','temperature':35,'windspeed':7,'event':'Sunny'},\n",
    "    {'day':'1/3/2019','temperature':28,'windspeed':2,'event':'Snow'},\n",
    "    {'day':'1/4/2019','temperature':24,'windspeed':7,'event':'Snow'},\n",
    "    {'day':'1/5/2019','temperature':32,'windspeed':4,'event':'Rain'},\n",
    "    {'day':'1/6/2019','temperature':31,'windspeed':2,'event':'Sunny'}\n",
    "]\n",
    "\n",
    "dataframe = pd.DataFrame(weather_list_dict)\n",
    "dataframe.head()"
   ]
  },
  {
   "cell_type": "markdown",
   "metadata": {},
   "source": [
    "#### From Excel"
   ]
  },
  {
   "cell_type": "code",
   "execution_count": null,
   "metadata": {
    "collapsed": true
   },
   "outputs": [],
   "source": [
    "dataframe = pd.read_excel('data/nyc_weather.xlsx')\n",
    "print('Total number of rows',len(dataframe))\n",
    "print('Top 5 rows')\n",
    "dataframe.head()"
   ]
  },
  {
   "cell_type": "markdown",
   "metadata": {},
   "source": [
    "#### From CSV"
   ]
  },
  {
   "cell_type": "code",
   "execution_count": null,
   "metadata": {},
   "outputs": [],
   "source": [
    "dataframe = pd.read_csv('data/nyc_weather.csv')\n",
    "print('Total number of rows',len(dataframe))\n",
    "print('Top 5 rows')\n",
    "dataframe.head()"
   ]
  },
  {
   "cell_type": "markdown",
   "metadata": {},
   "source": [
    "### DataFrame basic operations"
   ]
  },
  {
   "cell_type": "markdown",
   "metadata": {},
   "source": [
    "#### Shape of a dataframe (dimentions = row , columns)"
   ]
  },
  {
   "cell_type": "code",
   "execution_count": null,
   "metadata": {
    "collapsed": true
   },
   "outputs": [],
   "source": [
    "nrows, ncolumns = dataframe.shape\n",
    "print('Number of rows',nrows)\n",
    "print('Number of columns',ncolumns)\n",
    "print('Shape ',dataframe.shape)"
   ]
  },
  {
   "cell_type": "markdown",
   "metadata": {},
   "source": [
    "#### Access top n rows of dataframe "
   ]
  },
  {
   "cell_type": "code",
   "execution_count": null,
   "metadata": {},
   "outputs": [],
   "source": [
    "dataframe.head(5) ## n == 5"
   ]
  },
  {
   "cell_type": "markdown",
   "metadata": {},
   "source": [
    "#### Access bottom n rows of dataframe"
   ]
  },
  {
   "cell_type": "code",
   "execution_count": null,
   "metadata": {
    "collapsed": true
   },
   "outputs": [],
   "source": [
    "dataframe.tail(5) ## n == 5"
   ]
  },
  {
   "cell_type": "markdown",
   "metadata": {},
   "source": [
    "#### Access rows using index "
   ]
  },
  {
   "cell_type": "code",
   "execution_count": null,
   "metadata": {
    "collapsed": true
   },
   "outputs": [],
   "source": [
    "dataframe[2:5] ## start with index 2 and go till 2+(5-2)-1 rows"
   ]
  },
  {
   "cell_type": "code",
   "execution_count": null,
   "metadata": {
    "collapsed": true
   },
   "outputs": [],
   "source": [
    "dataframe[:4] ## start with index 0 and go till 0+(4-0)-1 rows"
   ]
  },
  {
   "cell_type": "code",
   "execution_count": null,
   "metadata": {
    "collapsed": true
   },
   "outputs": [],
   "source": [
    "dataframe[25:] ## start with index 25 and go till 25+(len(dataframe)-25)-1 rows"
   ]
  },
  {
   "cell_type": "code",
   "execution_count": null,
   "metadata": {
    "collapsed": true
   },
   "outputs": [],
   "source": [
    "dataframe[:] ## start with index 0 and go till len(dataframe)-1 rows"
   ]
  },
  {
   "cell_type": "markdown",
   "metadata": {},
   "source": [
    "#### Access columns"
   ]
  },
  {
   "cell_type": "code",
   "execution_count": null,
   "metadata": {
    "collapsed": true
   },
   "outputs": [],
   "source": [
    "dataframe.columns ## Gives the list containing all columns"
   ]
  },
  {
   "cell_type": "code",
   "execution_count": null,
   "metadata": {
    "collapsed": true
   },
   "outputs": [],
   "source": [
    "dataframe.EST.head() ## Get all values in column EST"
   ]
  },
  {
   "cell_type": "code",
   "execution_count": null,
   "metadata": {
    "collapsed": true
   },
   "outputs": [],
   "source": [
    "dataframe[['EST','DewPoint']].head() ## Get all values in column EST, Dewpoint"
   ]
  },
  {
   "cell_type": "markdown",
   "metadata": {},
   "source": [
    "#### Basic Stats on the dataset"
   ]
  },
  {
   "cell_type": "code",
   "execution_count": null,
   "metadata": {},
   "outputs": [],
   "source": [
    "tdf = dataframe['Temperature']\n",
    "print('**describe',tdf.describe(),'**')\n",
    "print('max',tdf.max())\n",
    "print('min',tdf.min())\n",
    "print('mean',tdf.mean())"
   ]
  },
  {
   "cell_type": "markdown",
   "metadata": {},
   "source": [
    "#### Print the row with maximum temparature"
   ]
  },
  {
   "cell_type": "code",
   "execution_count": null,
   "metadata": {},
   "outputs": [],
   "source": [
    "dataframe[dataframe['Temperature'] == dataframe['Temperature'].max()]"
   ]
  },
  {
   "cell_type": "markdown",
   "metadata": {},
   "source": [
    "#### Print the dates and temperature where the DewPoint was higher than average"
   ]
  },
  {
   "cell_type": "code",
   "execution_count": null,
   "metadata": {},
   "outputs": [],
   "source": [
    "dew_point_mean = dataframe['DewPoint'].mean()\n",
    "result_dataframe = dataframe[['EST','Temperature','DewPoint']][dataframe['DewPoint']>dew_point_mean]\n",
    "result_dataframe['Mean DewPoint']=dew_point_mean\n",
    "result_dataframe"
   ]
  },
  {
   "cell_type": "markdown",
   "metadata": {},
   "source": [
    "#### Change the index\n",
    "Sometimes it becomes very helpful if we can have the index of the dataframe changed from the sequence to some thing more meaningful like a date.\n",
    "\n",
    "**This is like creating new index on a table so that the retrival would be very fast**\n",
    "\n",
    "In that scenario, we can use the set_index to do the same.\n",
    "there is a function called reset_index to reset the index back to normal sequence"
   ]
  },
  {
   "cell_type": "code",
   "execution_count": null,
   "metadata": {
    "scrolled": true
   },
   "outputs": [],
   "source": [
    "dataframe_EST_index = dataframe.set_index('EST')\n",
    "dataframe_EST_index.head()"
   ]
  },
  {
   "cell_type": "code",
   "execution_count": null,
   "metadata": {},
   "outputs": [],
   "source": [
    "dataframe_EST_index.loc['1/2/2016']"
   ]
  },
  {
   "cell_type": "code",
   "execution_count": null,
   "metadata": {},
   "outputs": [],
   "source": [
    "dataframe_EST_index = dataframe.reset_index()\n",
    "dataframe_EST_index.head()"
   ]
  },
  {
   "cell_type": "markdown",
   "metadata": {},
   "source": [
    "### Extracting data to CSV & Excel\n",
    "\n",
    "We can push the data of the dataframe to CSV or Excel."
   ]
  },
  {
   "cell_type": "code",
   "execution_count": null,
   "metadata": {},
   "outputs": [],
   "source": [
    "## Create csv file\n",
    "import datetime\n",
    "outputfile_csv = 'data/test_'+datetime.datetime.now().strftime(\"%Y-%m-%d\")+\".csv\"\n",
    "dataframe.head().to_csv(outputfile_csv)\n",
    "print('Check the file at ',outputfile_csv)"
   ]
  },
  {
   "cell_type": "code",
   "execution_count": null,
   "metadata": {
    "collapsed": true
   },
   "outputs": [],
   "source": [
    "## Cleanup csv file\n",
    "import os\n",
    "os.remove(outputfile_csv)"
   ]
  },
  {
   "cell_type": "code",
   "execution_count": null,
   "metadata": {},
   "outputs": [],
   "source": [
    "## Create Excel File\n",
    "import datetime\n",
    "outputfile_xlsx = 'data/test_'+datetime.datetime.now().strftime(\"%Y-%m-%d\")+\".xlsx\"\n",
    "dataframe.head().to_excel(outputfile_xlsx)\n",
    "print('Check the file at ',outputfile_xlsx)"
   ]
  },
  {
   "cell_type": "code",
   "execution_count": null,
   "metadata": {
    "collapsed": true
   },
   "outputs": [],
   "source": [
    "## Cleanup Excel file\n",
    "import os\n",
    "os.remove(outputfile_xlsx)"
   ]
  },
  {
   "cell_type": "markdown",
   "metadata": {},
   "source": [
    "### Fixing Not Available data issues\n",
    "\n",
    "Some times we would have data which might not have consistent inputs or blank or have different values of not available for different columns.\n",
    "\n",
    "For example, imagine data like below"
   ]
  },
  {
   "cell_type": "code",
   "execution_count": null,
   "metadata": {},
   "outputs": [],
   "source": [
    "sample_data_na = [\n",
    "    ('GOOGL',27.82,87,845,'Larry Page'),\n",
    "    ('WMT',4.61,484,65,'n.a.'),\n",
    "    ('MSFT',-1,85,64,'Bill Gates'),\n",
    "    ('RIL','not avaiable',50,1023,'Mukesh Ambani'),\n",
    "    ('TATA',5.6,-1,'n.a','Ratan Tata')\n",
    "]\n",
    "na_dataframe = pd.DataFrame(sample_data_na, columns=['tickers','eps','revenue','price','people'])\n",
    "na_dataframe"
   ]
  },
  {
   "cell_type": "code",
   "execution_count": null,
   "metadata": {},
   "outputs": [],
   "source": [
    "## to convert n.a. and not available to NaN\n",
    "na_dataframe.replace(['not avaiable','n.a','n.a.'], np.NaN)"
   ]
  },
  {
   "cell_type": "code",
   "execution_count": null,
   "metadata": {},
   "outputs": [],
   "source": [
    "## Lets take an example here about revenue with value of -1 should be NaN but eps with the same value is fine\n",
    "na_dataframe.loc[na_dataframe['revenue'] == -1, 'revenue'] = np.NaN\n",
    "na_dataframe"
   ]
  },
  {
   "cell_type": "code",
   "execution_count": 68,
   "metadata": {
    "collapsed": true
   },
   "outputs": [],
   "source": [
    "## Another way to do the above is using converters\n",
    "## To be writtern yet"
   ]
  },
  {
   "cell_type": "code",
   "execution_count": 88,
   "metadata": {
    "scrolled": true
   },
   "outputs": [
    {
     "data": {
      "text/html": [
       "<div>\n",
       "<table border=\"1\" class=\"dataframe\">\n",
       "  <thead>\n",
       "    <tr style=\"text-align: right;\">\n",
       "      <th></th>\n",
       "      <th>Temperature</th>\n",
       "      <th>DewPoint</th>\n",
       "      <th>Humidity</th>\n",
       "      <th>Sea Level PressureIn</th>\n",
       "      <th>VisibilityMiles</th>\n",
       "      <th>WindSpeedMPH</th>\n",
       "      <th>PrecipitationIn</th>\n",
       "      <th>CloudCover</th>\n",
       "      <th>Events</th>\n",
       "      <th>WindDirDegrees</th>\n",
       "    </tr>\n",
       "    <tr>\n",
       "      <th>EST</th>\n",
       "      <th></th>\n",
       "      <th></th>\n",
       "      <th></th>\n",
       "      <th></th>\n",
       "      <th></th>\n",
       "      <th></th>\n",
       "      <th></th>\n",
       "      <th></th>\n",
       "      <th></th>\n",
       "      <th></th>\n",
       "    </tr>\n",
       "  </thead>\n",
       "  <tbody>\n",
       "    <tr>\n",
       "      <th>2016-01-01</th>\n",
       "      <td>38</td>\n",
       "      <td>23</td>\n",
       "      <td>52</td>\n",
       "      <td>30.03</td>\n",
       "      <td>10</td>\n",
       "      <td>8.0</td>\n",
       "      <td>0</td>\n",
       "      <td>5</td>\n",
       "      <td>Rain</td>\n",
       "      <td>281</td>\n",
       "    </tr>\n",
       "    <tr>\n",
       "      <th>2016-01-02</th>\n",
       "      <td>36</td>\n",
       "      <td>18</td>\n",
       "      <td>46</td>\n",
       "      <td>30.02</td>\n",
       "      <td>10</td>\n",
       "      <td>7.0</td>\n",
       "      <td>0</td>\n",
       "      <td>3</td>\n",
       "      <td>Rain</td>\n",
       "      <td>275</td>\n",
       "    </tr>\n",
       "    <tr>\n",
       "      <th>2016-01-03</th>\n",
       "      <td>40</td>\n",
       "      <td>21</td>\n",
       "      <td>47</td>\n",
       "      <td>29.86</td>\n",
       "      <td>10</td>\n",
       "      <td>8.0</td>\n",
       "      <td>0</td>\n",
       "      <td>1</td>\n",
       "      <td>Rain</td>\n",
       "      <td>277</td>\n",
       "    </tr>\n",
       "    <tr>\n",
       "      <th>2016-01-04</th>\n",
       "      <td>25</td>\n",
       "      <td>9</td>\n",
       "      <td>44</td>\n",
       "      <td>30.05</td>\n",
       "      <td>10</td>\n",
       "      <td>9.0</td>\n",
       "      <td>0</td>\n",
       "      <td>3</td>\n",
       "      <td>Rain</td>\n",
       "      <td>345</td>\n",
       "    </tr>\n",
       "    <tr>\n",
       "      <th>2016-01-05</th>\n",
       "      <td>20</td>\n",
       "      <td>-3</td>\n",
       "      <td>41</td>\n",
       "      <td>30.57</td>\n",
       "      <td>10</td>\n",
       "      <td>5.0</td>\n",
       "      <td>0</td>\n",
       "      <td>0</td>\n",
       "      <td>Rain</td>\n",
       "      <td>333</td>\n",
       "    </tr>\n",
       "    <tr>\n",
       "      <th>2016-01-06</th>\n",
       "      <td>33</td>\n",
       "      <td>4</td>\n",
       "      <td>35</td>\n",
       "      <td>30.50</td>\n",
       "      <td>10</td>\n",
       "      <td>4.0</td>\n",
       "      <td>0</td>\n",
       "      <td>0</td>\n",
       "      <td>Rain</td>\n",
       "      <td>259</td>\n",
       "    </tr>\n",
       "    <tr>\n",
       "      <th>2016-01-07</th>\n",
       "      <td>39</td>\n",
       "      <td>11</td>\n",
       "      <td>33</td>\n",
       "      <td>30.28</td>\n",
       "      <td>10</td>\n",
       "      <td>2.0</td>\n",
       "      <td>0</td>\n",
       "      <td>3</td>\n",
       "      <td>Rain</td>\n",
       "      <td>293</td>\n",
       "    </tr>\n",
       "    <tr>\n",
       "      <th>2016-01-08</th>\n",
       "      <td>39</td>\n",
       "      <td>29</td>\n",
       "      <td>64</td>\n",
       "      <td>30.20</td>\n",
       "      <td>10</td>\n",
       "      <td>4.0</td>\n",
       "      <td>0</td>\n",
       "      <td>8</td>\n",
       "      <td>Rain</td>\n",
       "      <td>79</td>\n",
       "    </tr>\n",
       "    <tr>\n",
       "      <th>2016-01-09</th>\n",
       "      <td>44</td>\n",
       "      <td>38</td>\n",
       "      <td>77</td>\n",
       "      <td>30.16</td>\n",
       "      <td>9</td>\n",
       "      <td>8.0</td>\n",
       "      <td>T</td>\n",
       "      <td>8</td>\n",
       "      <td>Rain</td>\n",
       "      <td>76</td>\n",
       "    </tr>\n",
       "    <tr>\n",
       "      <th>2016-01-10</th>\n",
       "      <td>50</td>\n",
       "      <td>46</td>\n",
       "      <td>71</td>\n",
       "      <td>29.59</td>\n",
       "      <td>4</td>\n",
       "      <td>0.0</td>\n",
       "      <td>1.8</td>\n",
       "      <td>7</td>\n",
       "      <td>Rain</td>\n",
       "      <td>109</td>\n",
       "    </tr>\n",
       "    <tr>\n",
       "      <th>2016-01-11</th>\n",
       "      <td>33</td>\n",
       "      <td>8</td>\n",
       "      <td>37</td>\n",
       "      <td>29.92</td>\n",
       "      <td>10</td>\n",
       "      <td>0.0</td>\n",
       "      <td>0</td>\n",
       "      <td>1</td>\n",
       "      <td>Rain</td>\n",
       "      <td>289</td>\n",
       "    </tr>\n",
       "    <tr>\n",
       "      <th>2016-01-12</th>\n",
       "      <td>35</td>\n",
       "      <td>15</td>\n",
       "      <td>53</td>\n",
       "      <td>29.85</td>\n",
       "      <td>10</td>\n",
       "      <td>6.0</td>\n",
       "      <td>T</td>\n",
       "      <td>4</td>\n",
       "      <td>Rain</td>\n",
       "      <td>235</td>\n",
       "    </tr>\n",
       "    <tr>\n",
       "      <th>2016-01-13</th>\n",
       "      <td>26</td>\n",
       "      <td>4</td>\n",
       "      <td>42</td>\n",
       "      <td>29.94</td>\n",
       "      <td>10</td>\n",
       "      <td>10.0</td>\n",
       "      <td>0</td>\n",
       "      <td>0</td>\n",
       "      <td>Rain</td>\n",
       "      <td>284</td>\n",
       "    </tr>\n",
       "    <tr>\n",
       "      <th>2016-01-14</th>\n",
       "      <td>30</td>\n",
       "      <td>12</td>\n",
       "      <td>47</td>\n",
       "      <td>29.95</td>\n",
       "      <td>10</td>\n",
       "      <td>5.0</td>\n",
       "      <td>T</td>\n",
       "      <td>7</td>\n",
       "      <td>Rain</td>\n",
       "      <td>266</td>\n",
       "    </tr>\n",
       "    <tr>\n",
       "      <th>2016-01-15</th>\n",
       "      <td>43</td>\n",
       "      <td>31</td>\n",
       "      <td>62</td>\n",
       "      <td>29.82</td>\n",
       "      <td>9</td>\n",
       "      <td>5.0</td>\n",
       "      <td>T</td>\n",
       "      <td>2</td>\n",
       "      <td>Rain</td>\n",
       "      <td>101</td>\n",
       "    </tr>\n",
       "    <tr>\n",
       "      <th>2016-01-16</th>\n",
       "      <td>47</td>\n",
       "      <td>37</td>\n",
       "      <td>70</td>\n",
       "      <td>29.52</td>\n",
       "      <td>8</td>\n",
       "      <td>7.0</td>\n",
       "      <td>0.24</td>\n",
       "      <td>7</td>\n",
       "      <td>Rain</td>\n",
       "      <td>340</td>\n",
       "    </tr>\n",
       "    <tr>\n",
       "      <th>2016-01-17</th>\n",
       "      <td>36</td>\n",
       "      <td>23</td>\n",
       "      <td>66</td>\n",
       "      <td>29.78</td>\n",
       "      <td>8</td>\n",
       "      <td>6.0</td>\n",
       "      <td>0.05</td>\n",
       "      <td>6</td>\n",
       "      <td>Fog-Snow</td>\n",
       "      <td>345</td>\n",
       "    </tr>\n",
       "    <tr>\n",
       "      <th>2016-01-18</th>\n",
       "      <td>25</td>\n",
       "      <td>6</td>\n",
       "      <td>53</td>\n",
       "      <td>29.83</td>\n",
       "      <td>9</td>\n",
       "      <td>12.0</td>\n",
       "      <td>T</td>\n",
       "      <td>2</td>\n",
       "      <td>Snow</td>\n",
       "      <td>293</td>\n",
       "    </tr>\n",
       "    <tr>\n",
       "      <th>2016-01-19</th>\n",
       "      <td>22</td>\n",
       "      <td>3</td>\n",
       "      <td>42</td>\n",
       "      <td>30.03</td>\n",
       "      <td>10</td>\n",
       "      <td>11.0</td>\n",
       "      <td>0</td>\n",
       "      <td>1</td>\n",
       "      <td>Snow</td>\n",
       "      <td>293</td>\n",
       "    </tr>\n",
       "    <tr>\n",
       "      <th>2016-01-20</th>\n",
       "      <td>32</td>\n",
       "      <td>15</td>\n",
       "      <td>49</td>\n",
       "      <td>30.13</td>\n",
       "      <td>10</td>\n",
       "      <td>6.0</td>\n",
       "      <td>0</td>\n",
       "      <td>2</td>\n",
       "      <td>Snow</td>\n",
       "      <td>302</td>\n",
       "    </tr>\n",
       "    <tr>\n",
       "      <th>2016-01-21</th>\n",
       "      <td>31</td>\n",
       "      <td>11</td>\n",
       "      <td>45</td>\n",
       "      <td>30.15</td>\n",
       "      <td>10</td>\n",
       "      <td>6.0</td>\n",
       "      <td>0</td>\n",
       "      <td>1</td>\n",
       "      <td>Snow</td>\n",
       "      <td>312</td>\n",
       "    </tr>\n",
       "    <tr>\n",
       "      <th>2016-01-22</th>\n",
       "      <td>26</td>\n",
       "      <td>6</td>\n",
       "      <td>41</td>\n",
       "      <td>30.21</td>\n",
       "      <td>9</td>\n",
       "      <td>0.0</td>\n",
       "      <td>0.01</td>\n",
       "      <td>3</td>\n",
       "      <td>Snow</td>\n",
       "      <td>34</td>\n",
       "    </tr>\n",
       "    <tr>\n",
       "      <th>2016-01-23</th>\n",
       "      <td>26</td>\n",
       "      <td>21</td>\n",
       "      <td>78</td>\n",
       "      <td>29.77</td>\n",
       "      <td>1</td>\n",
       "      <td>16.0</td>\n",
       "      <td>2.31</td>\n",
       "      <td>8</td>\n",
       "      <td>Fog-Snow</td>\n",
       "      <td>42</td>\n",
       "    </tr>\n",
       "    <tr>\n",
       "      <th>2016-01-24</th>\n",
       "      <td>28</td>\n",
       "      <td>11</td>\n",
       "      <td>53</td>\n",
       "      <td>29.92</td>\n",
       "      <td>8</td>\n",
       "      <td>6.0</td>\n",
       "      <td>T</td>\n",
       "      <td>3</td>\n",
       "      <td>Snow</td>\n",
       "      <td>327</td>\n",
       "    </tr>\n",
       "    <tr>\n",
       "      <th>2016-01-25</th>\n",
       "      <td>34</td>\n",
       "      <td>18</td>\n",
       "      <td>54</td>\n",
       "      <td>30.25</td>\n",
       "      <td>10</td>\n",
       "      <td>3.0</td>\n",
       "      <td>0</td>\n",
       "      <td>2</td>\n",
       "      <td>Rain</td>\n",
       "      <td>286</td>\n",
       "    </tr>\n",
       "    <tr>\n",
       "      <th>2016-01-26</th>\n",
       "      <td>43</td>\n",
       "      <td>29</td>\n",
       "      <td>56</td>\n",
       "      <td>30.03</td>\n",
       "      <td>10</td>\n",
       "      <td>7.0</td>\n",
       "      <td>0</td>\n",
       "      <td>2</td>\n",
       "      <td>Rain</td>\n",
       "      <td>244</td>\n",
       "    </tr>\n",
       "    <tr>\n",
       "      <th>2016-01-27</th>\n",
       "      <td>41</td>\n",
       "      <td>22</td>\n",
       "      <td>45</td>\n",
       "      <td>30.03</td>\n",
       "      <td>10</td>\n",
       "      <td>7.0</td>\n",
       "      <td>T</td>\n",
       "      <td>3</td>\n",
       "      <td>Rain</td>\n",
       "      <td>311</td>\n",
       "    </tr>\n",
       "    <tr>\n",
       "      <th>2016-01-28</th>\n",
       "      <td>37</td>\n",
       "      <td>20</td>\n",
       "      <td>51</td>\n",
       "      <td>29.90</td>\n",
       "      <td>10</td>\n",
       "      <td>5.0</td>\n",
       "      <td>0</td>\n",
       "      <td>1</td>\n",
       "      <td>Rain</td>\n",
       "      <td>234</td>\n",
       "    </tr>\n",
       "    <tr>\n",
       "      <th>2016-01-29</th>\n",
       "      <td>36</td>\n",
       "      <td>21</td>\n",
       "      <td>50</td>\n",
       "      <td>29.58</td>\n",
       "      <td>10</td>\n",
       "      <td>8.0</td>\n",
       "      <td>0</td>\n",
       "      <td>4</td>\n",
       "      <td>Rain</td>\n",
       "      <td>298</td>\n",
       "    </tr>\n",
       "    <tr>\n",
       "      <th>2016-01-30</th>\n",
       "      <td>34</td>\n",
       "      <td>16</td>\n",
       "      <td>46</td>\n",
       "      <td>30.01</td>\n",
       "      <td>10</td>\n",
       "      <td>7.0</td>\n",
       "      <td>0</td>\n",
       "      <td>0</td>\n",
       "      <td>Rain</td>\n",
       "      <td>257</td>\n",
       "    </tr>\n",
       "    <tr>\n",
       "      <th>2016-01-31</th>\n",
       "      <td>46</td>\n",
       "      <td>28</td>\n",
       "      <td>52</td>\n",
       "      <td>29.90</td>\n",
       "      <td>10</td>\n",
       "      <td>5.0</td>\n",
       "      <td>0</td>\n",
       "      <td>0</td>\n",
       "      <td>Rain</td>\n",
       "      <td>241</td>\n",
       "    </tr>\n",
       "  </tbody>\n",
       "</table>\n",
       "</div>"
      ],
      "text/plain": [
       "            Temperature  DewPoint  Humidity  Sea Level PressureIn  \\\n",
       "EST                                                                 \n",
       "2016-01-01           38        23        52                 30.03   \n",
       "2016-01-02           36        18        46                 30.02   \n",
       "2016-01-03           40        21        47                 29.86   \n",
       "2016-01-04           25         9        44                 30.05   \n",
       "2016-01-05           20        -3        41                 30.57   \n",
       "2016-01-06           33         4        35                 30.50   \n",
       "2016-01-07           39        11        33                 30.28   \n",
       "2016-01-08           39        29        64                 30.20   \n",
       "2016-01-09           44        38        77                 30.16   \n",
       "2016-01-10           50        46        71                 29.59   \n",
       "2016-01-11           33         8        37                 29.92   \n",
       "2016-01-12           35        15        53                 29.85   \n",
       "2016-01-13           26         4        42                 29.94   \n",
       "2016-01-14           30        12        47                 29.95   \n",
       "2016-01-15           43        31        62                 29.82   \n",
       "2016-01-16           47        37        70                 29.52   \n",
       "2016-01-17           36        23        66                 29.78   \n",
       "2016-01-18           25         6        53                 29.83   \n",
       "2016-01-19           22         3        42                 30.03   \n",
       "2016-01-20           32        15        49                 30.13   \n",
       "2016-01-21           31        11        45                 30.15   \n",
       "2016-01-22           26         6        41                 30.21   \n",
       "2016-01-23           26        21        78                 29.77   \n",
       "2016-01-24           28        11        53                 29.92   \n",
       "2016-01-25           34        18        54                 30.25   \n",
       "2016-01-26           43        29        56                 30.03   \n",
       "2016-01-27           41        22        45                 30.03   \n",
       "2016-01-28           37        20        51                 29.90   \n",
       "2016-01-29           36        21        50                 29.58   \n",
       "2016-01-30           34        16        46                 30.01   \n",
       "2016-01-31           46        28        52                 29.90   \n",
       "\n",
       "            VisibilityMiles  WindSpeedMPH PrecipitationIn  CloudCover  \\\n",
       "EST                                                                     \n",
       "2016-01-01               10           8.0               0           5   \n",
       "2016-01-02               10           7.0               0           3   \n",
       "2016-01-03               10           8.0               0           1   \n",
       "2016-01-04               10           9.0               0           3   \n",
       "2016-01-05               10           5.0               0           0   \n",
       "2016-01-06               10           4.0               0           0   \n",
       "2016-01-07               10           2.0               0           3   \n",
       "2016-01-08               10           4.0               0           8   \n",
       "2016-01-09                9           8.0               T           8   \n",
       "2016-01-10                4           0.0             1.8           7   \n",
       "2016-01-11               10           0.0               0           1   \n",
       "2016-01-12               10           6.0               T           4   \n",
       "2016-01-13               10          10.0               0           0   \n",
       "2016-01-14               10           5.0               T           7   \n",
       "2016-01-15                9           5.0               T           2   \n",
       "2016-01-16                8           7.0            0.24           7   \n",
       "2016-01-17                8           6.0            0.05           6   \n",
       "2016-01-18                9          12.0               T           2   \n",
       "2016-01-19               10          11.0               0           1   \n",
       "2016-01-20               10           6.0               0           2   \n",
       "2016-01-21               10           6.0               0           1   \n",
       "2016-01-22                9           0.0            0.01           3   \n",
       "2016-01-23                1          16.0            2.31           8   \n",
       "2016-01-24                8           6.0               T           3   \n",
       "2016-01-25               10           3.0               0           2   \n",
       "2016-01-26               10           7.0               0           2   \n",
       "2016-01-27               10           7.0               T           3   \n",
       "2016-01-28               10           5.0               0           1   \n",
       "2016-01-29               10           8.0               0           4   \n",
       "2016-01-30               10           7.0               0           0   \n",
       "2016-01-31               10           5.0               0           0   \n",
       "\n",
       "              Events  WindDirDegrees  \n",
       "EST                                   \n",
       "2016-01-01      Rain             281  \n",
       "2016-01-02      Rain             275  \n",
       "2016-01-03      Rain             277  \n",
       "2016-01-04      Rain             345  \n",
       "2016-01-05      Rain             333  \n",
       "2016-01-06      Rain             259  \n",
       "2016-01-07      Rain             293  \n",
       "2016-01-08      Rain              79  \n",
       "2016-01-09      Rain              76  \n",
       "2016-01-10      Rain             109  \n",
       "2016-01-11      Rain             289  \n",
       "2016-01-12      Rain             235  \n",
       "2016-01-13      Rain             284  \n",
       "2016-01-14      Rain             266  \n",
       "2016-01-15      Rain             101  \n",
       "2016-01-16      Rain             340  \n",
       "2016-01-17  Fog-Snow             345  \n",
       "2016-01-18      Snow             293  \n",
       "2016-01-19      Snow             293  \n",
       "2016-01-20      Snow             302  \n",
       "2016-01-21      Snow             312  \n",
       "2016-01-22      Snow              34  \n",
       "2016-01-23  Fog-Snow              42  \n",
       "2016-01-24      Snow             327  \n",
       "2016-01-25      Rain             286  \n",
       "2016-01-26      Rain             244  \n",
       "2016-01-27      Rain             311  \n",
       "2016-01-28      Rain             234  \n",
       "2016-01-29      Rain             298  \n",
       "2016-01-30      Rain             257  \n",
       "2016-01-31      Rain             241  "
      ]
     },
     "execution_count": 88,
     "metadata": {},
     "output_type": "execute_result"
    }
   ],
   "source": [
    "dataframe = pd.read_csv('data/nyc_weather.csv', parse_dates=['EST'])\n",
    "dataframe.set_index('EST', inplace=True)\n",
    "dataframe = dataframe.fillna(value={'WindSpeedMPH': 0})\n",
    "dataframe[['Events']] = dataframe[['Events']].fillna(method='bfill')\n",
    "dataframe[['Events']] = dataframe[['Events']].fillna(method='ffill')\n",
    "dataframe\n",
    "#t_dataframe['Events'] = t_dataframe[['Events']].fillna(method='ffill').fillna(method='bfill')\n",
    "#t_dataframe"
   ]
  },
  {
   "cell_type": "code",
   "execution_count": null,
   "metadata": {
    "collapsed": true
   },
   "outputs": [],
   "source": []
  }
 ],
 "metadata": {
  "kernelspec": {
   "display_name": "Python 3",
   "language": "python",
   "name": "python3"
  },
  "language_info": {
   "codemirror_mode": {
    "name": "ipython",
    "version": 3
   },
   "file_extension": ".py",
   "mimetype": "text/x-python",
   "name": "python",
   "nbconvert_exporter": "python",
   "pygments_lexer": "ipython3",
   "version": "3.7.1"
  }
 },
 "nbformat": 4,
 "nbformat_minor": 2
}
